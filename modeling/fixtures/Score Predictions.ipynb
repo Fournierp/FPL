{
 "cells": [
  {
   "cell_type": "markdown",
   "metadata": {},
   "source": [
    "# Score Predictions\n",
    "\n",
    "Compare the different model predictions with the actual outcomes of fixtures using Ranked Probability Score."
   ]
  },
  {
   "cell_type": "code",
   "execution_count": 1,
   "metadata": {},
   "outputs": [],
   "source": [
    "import pandas as pd\n",
    "import numpy as np\n",
    "\n",
    "from ranked_probability_score import match_outcome"
   ]
  },
  {
   "cell_type": "markdown",
   "metadata": {},
   "source": [
    "## Baselines"
   ]
  },
  {
   "cell_type": "code",
   "execution_count": 2,
   "metadata": {},
   "outputs": [],
   "source": [
    "from baselines import Baselines\n",
    "\n",
    "# Get fixture outcomes\n",
    "outcomes = pd.read_csv(\"../../data/fivethirtyeight/spi_matches.csv\")\n",
    "outcomes = (\n",
    "    outcomes\n",
    "    .loc[(outcomes['league_id'] == 2411) | (outcomes['league_id'] == 2412)]\n",
    "    .dropna()\n",
    "    )\n",
    "\n",
    "# Get GW dates\n",
    "fixtures = (\n",
    "    pd.read_csv(\"../../data/fpl_official/vaastav/data/2021-22/fixtures.csv\")\n",
    "    .loc[:, ['event', 'kickoff_time']])\n",
    "fixtures[\"kickoff_time\"] = pd.to_datetime(fixtures[\"kickoff_time\"]).dt.date\n",
    "\n",
    "# Get only EPL games from the current season\n",
    "season_games = (\n",
    "    outcomes\n",
    "    .loc[outcomes['league_id'] == 2411]\n",
    "    .loc[outcomes['season'] == 2021]\n",
    "    )\n",
    "season_games[\"kickoff_time\"] = pd.to_datetime(season_games[\"date\"]).dt.date\n",
    "\n",
    "# Merge outcomes with GW dates\n",
    "season_games = (\n",
    "    pd.merge(\n",
    "        season_games,\n",
    "        fixtures,\n",
    "        left_on='kickoff_time',\n",
    "        right_on='kickoff_time')\n",
    "    .drop_duplicates()\n",
    "    )"
   ]
  },
  {
   "cell_type": "code",
   "execution_count": 3,
   "metadata": {},
   "outputs": [],
   "source": [
    "baselines = Baselines(season_games)\n",
    "\n",
    "# Add the home team and away team index for running inference\n",
    "idx = (\n",
    "    pd.DataFrame()\n",
    "    .assign(team=baselines.teams)\n",
    "    .assign(team_index=np.arange(baselines.league_size)))\n",
    "season_games = (\n",
    "    pd.merge(season_games, idx, left_on=\"team1\", right_on=\"team\")\n",
    "    .rename(columns={\"team_index\": \"hg\"})\n",
    "    .drop([\"team\"], axis=1)\n",
    "    .drop_duplicates()\n",
    "    .merge(idx, left_on=\"team2\", right_on=\"team\")\n",
    "    .rename(columns={\"team_index\": \"ag\"})\n",
    "    .drop([\"team\"], axis=1)\n",
    "    .sort_values(\"date\")\n",
    ")"
   ]
  },
  {
   "cell_type": "markdown",
   "metadata": {},
   "source": [
    "### Uniform Odds"
   ]
  },
  {
   "cell_type": "code",
   "execution_count": 4,
   "metadata": {},
   "outputs": [
    {
     "data": {
      "text/plain": [
       "'23.39'"
      ]
     },
     "execution_count": 4,
     "metadata": {},
     "output_type": "execute_result"
    }
   ],
   "source": [
    "predictions_uniform = baselines.evaluate(season_games, 'uniform')\n",
    "f\"{(np.mean(predictions_uniform.rps)*100):.2f}\""
   ]
  },
  {
   "cell_type": "markdown",
   "metadata": {},
   "source": [
    "### Home bias"
   ]
  },
  {
   "cell_type": "code",
   "execution_count": 5,
   "metadata": {},
   "outputs": [
    {
     "data": {
      "text/plain": [
       "'46.50'"
      ]
     },
     "execution_count": 5,
     "metadata": {},
     "output_type": "execute_result"
    }
   ],
   "source": [
    "predictions_home = baselines.evaluate(season_games, 'home')\n",
    "f\"{(np.mean(predictions_home.rps)*100):.2f}\""
   ]
  },
  {
   "cell_type": "markdown",
   "metadata": {},
   "source": [
    "### Draw bias"
   ]
  },
  {
   "cell_type": "code",
   "execution_count": 6,
   "metadata": {},
   "outputs": [
    {
     "data": {
      "text/plain": [
       "'36.83'"
      ]
     },
     "execution_count": 6,
     "metadata": {},
     "output_type": "execute_result"
    }
   ],
   "source": [
    "predictions_draw = baselines.evaluate(season_games, 'draw')\n",
    "f\"{(np.mean(predictions_draw.rps)*100):.2f}\""
   ]
  },
  {
   "cell_type": "markdown",
   "metadata": {},
   "source": [
    "### Away bias"
   ]
  },
  {
   "cell_type": "code",
   "execution_count": 7,
   "metadata": {},
   "outputs": [
    {
     "data": {
      "text/plain": [
       "'53.50'"
      ]
     },
     "execution_count": 7,
     "metadata": {},
     "output_type": "execute_result"
    }
   ],
   "source": [
    "predictions_away = baselines.evaluate(season_games, 'away')\n",
    "f\"{(np.mean(predictions_away.rps)*100):.2f}\""
   ]
  },
  {
   "cell_type": "markdown",
   "metadata": {},
   "source": [
    "### Random odds"
   ]
  },
  {
   "cell_type": "code",
   "execution_count": 8,
   "metadata": {},
   "outputs": [
    {
     "data": {
      "text/plain": [
       "'26.39'"
      ]
     },
     "execution_count": 8,
     "metadata": {},
     "output_type": "execute_result"
    }
   ],
   "source": [
    "predictions_random = baselines.evaluate(season_games, 'random')\n",
    "f\"{(np.mean(predictions_random.rps)*100):.2f}\""
   ]
  },
  {
   "cell_type": "markdown",
   "metadata": {},
   "source": [
    "### Bookies Odds"
   ]
  },
  {
   "cell_type": "code",
   "execution_count": 9,
   "metadata": {},
   "outputs": [
    {
     "data": {
      "text/plain": [
       "'18.80'"
      ]
     },
     "execution_count": 9,
     "metadata": {},
     "output_type": "execute_result"
    }
   ],
   "source": [
    "predictions_bookies = baselines.evaluate(season_games, 'bookies', '../../')\n",
    "f\"{(np.mean(predictions_bookies.rps)*100):.2f}\""
   ]
  },
  {
   "cell_type": "markdown",
   "metadata": {},
   "source": [
    "### Bookies Favorite"
   ]
  },
  {
   "cell_type": "code",
   "execution_count": 10,
   "metadata": {},
   "outputs": [
    {
     "data": {
      "text/plain": [
       "'60.29'"
      ]
     },
     "execution_count": 10,
     "metadata": {},
     "output_type": "execute_result"
    }
   ],
   "source": [
    "predictions_favorite = baselines.evaluate(season_games, 'favorite', '../../')\n",
    "f\"{(np.mean(predictions_favorite.rps)*100):.2f}\""
   ]
  },
  {
   "cell_type": "markdown",
   "metadata": {},
   "source": [
    "## Thurstone Mosteller"
   ]
  },
  {
   "cell_type": "code",
   "execution_count": 11,
   "metadata": {},
   "outputs": [
    {
     "name": "stderr",
     "output_type": "stream",
     "text": [
      "  8%|▊         | 3/38 [00:41<08:08, 13.97s/it]\n"
     ]
    },
    {
     "data": {
      "text/plain": [
       "'34.03'"
      ]
     },
     "execution_count": 11,
     "metadata": {},
     "output_type": "execute_result"
    }
   ],
   "source": [
    "from thurstone_mosteller import Thurstone_Mosteller\n",
    "\n",
    "tm = Thurstone_Mosteller(season_games)\n",
    "\n",
    "predictions_tm = tm.backtest(outcomes, 2021, '../../')\n",
    "\n",
    "f\"{(np.mean(predictions_tm.rps))*100:.2f}\""
   ]
  },
  {
   "cell_type": "markdown",
   "metadata": {},
   "source": [
    "# Comparison"
   ]
  },
  {
   "cell_type": "code",
   "execution_count": null,
   "metadata": {},
   "outputs": [],
   "source": [
    "import matplotlib.pyplot as plt\n",
    "import matplotlib as mpl\n",
    "mpl.rcParams['figure.dpi'] = 300\n",
    "from highlight_text import fig_text\n",
    "\n",
    "body_font = \"Open Sans\"\n",
    "watermark_font = \"DejaVu Sans\"\n",
    "text_color = \"w\"\n",
    "background = \"#282B2F\"\n",
    "title_font = \"DejaVu Sans\"\n",
    "\n",
    "mpl.rcParams['xtick.color'] = text_color\n",
    "mpl.rcParams['ytick.color'] = text_color\n",
    "mpl.rcParams['text.color'] = text_color\n",
    "mpl.rcParams['axes.edgecolor'] = text_color\n",
    "mpl.rcParams['xtick.labelsize'] = 6\n",
    "mpl.rcParams['ytick.labelsize'] = 6"
   ]
  },
  {
   "cell_type": "code",
   "execution_count": null,
   "metadata": {},
   "outputs": [],
   "source": [
    "fig, ax = plt.subplots(1, 1, tight_layout=True)\n",
    "fig.set_facecolor(background)\n",
    "ax.patch.set_alpha(0)\n",
    "\n",
    "ax.plot(\n",
    "    predictions_uniform.groupby('event').mean()['rps'],\n",
    "    color='#b7094c')\n",
    "\n",
    "ax.set_xlabel('Gameweek', fontsize=8, color=text_color)\n",
    "ax.set_ylabel('RPS' , fontsize=8, color=text_color)\n",
    "\n",
    "fig_text(\n",
    "    x=0.09, y=1.025,\n",
    "    s=\"Ranked Probability Score for <Uniform Odds> predictions\",\n",
    "    highlight_textprops=[\n",
    "        {\"color\": '#b7094c'},\n",
    "        ],\n",
    "    fontsize=12, fontfamily=title_font, color=text_color, alpha=1)\n",
    "fig_text(\n",
    "    x=0.82, y=1.,\n",
    "    s=\"Updated <01-03-2022>\",\n",
    "    highlight_textprops=[{\"fontweight\": \"bold\"}],\n",
    "    fontsize=6, fontfamily=title_font, color=text_color, alpha=1)\n",
    "\n",
    "fig_text(\n",
    "    x=0.8, y=0.01,\n",
    "    s=\"Created by <Paul Fournier>\",\n",
    "    highlight_textprops=[{\"fontstyle\": \"italic\"}],\n",
    "    fontsize=6, fontfamily=watermark_font, color=text_color)\n",
    "\n",
    "plt.show()"
   ]
  }
 ],
 "metadata": {
  "interpreter": {
   "hash": "31f2aee4e71d21fbe5cf8b01ff0e069b9275f58929596ceb00d14d90e3e16cd6"
  },
  "kernelspec": {
   "display_name": "Python 3.8.10 64-bit",
   "name": "python3"
  },
  "language_info": {
   "codemirror_mode": {
    "name": "ipython",
    "version": 3
   },
   "file_extension": ".py",
   "mimetype": "text/x-python",
   "name": "python",
   "nbconvert_exporter": "python",
   "pygments_lexer": "ipython3",
   "version": "3.8.10"
  },
  "orig_nbformat": 4
 },
 "nbformat": 4,
 "nbformat_minor": 2
}

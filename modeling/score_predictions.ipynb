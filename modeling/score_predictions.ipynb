{
 "cells": [
  {
   "cell_type": "markdown",
   "source": [
    "# Score Predictions"
   ],
   "metadata": {}
  },
  {
   "cell_type": "code",
   "execution_count": 1,
   "source": [
    "import pandas as pd\n",
    "import numpy as np\n",
    "\n",
    "df = pd.read_csv(\"../data/fivethirtyeight/spi_matches.csv\")\n",
    "# df = df[(df['league_id'] == 2412) | (df['league_id'] == 2411)]\n",
    "df = df[df['league_id'] == 2411]\n",
    "df = df[df['season'] != 2021]\n",
    "df = df[[\"season\", \"league_id\", \"team1\", \"team2\", \"score1\", \"score2\", \"date\"]].dropna()\n",
    "df.head()"
   ],
   "outputs": [
    {
     "output_type": "execute_result",
     "data": {
      "text/plain": [
       "    season  league_id           team1                 team2  score1  score2  \\\n",
       "12    2016       2411       Hull City        Leicester City     2.0     1.0   \n",
       "13    2016       2411     Southampton               Watford     1.0     1.0   \n",
       "14    2016       2411  Crystal Palace  West Bromwich Albion     0.0     1.0   \n",
       "15    2016       2411   Middlesbrough            Stoke City     1.0     1.0   \n",
       "16    2016       2411         Burnley          Swansea City     0.0     1.0   \n",
       "\n",
       "          date  \n",
       "12  2016-08-13  \n",
       "13  2016-08-13  \n",
       "14  2016-08-13  \n",
       "15  2016-08-13  \n",
       "16  2016-08-13  "
      ],
      "text/html": [
       "<div>\n",
       "<style scoped>\n",
       "    .dataframe tbody tr th:only-of-type {\n",
       "        vertical-align: middle;\n",
       "    }\n",
       "\n",
       "    .dataframe tbody tr th {\n",
       "        vertical-align: top;\n",
       "    }\n",
       "\n",
       "    .dataframe thead th {\n",
       "        text-align: right;\n",
       "    }\n",
       "</style>\n",
       "<table border=\"1\" class=\"dataframe\">\n",
       "  <thead>\n",
       "    <tr style=\"text-align: right;\">\n",
       "      <th></th>\n",
       "      <th>season</th>\n",
       "      <th>league_id</th>\n",
       "      <th>team1</th>\n",
       "      <th>team2</th>\n",
       "      <th>score1</th>\n",
       "      <th>score2</th>\n",
       "      <th>date</th>\n",
       "    </tr>\n",
       "  </thead>\n",
       "  <tbody>\n",
       "    <tr>\n",
       "      <th>12</th>\n",
       "      <td>2016</td>\n",
       "      <td>2411</td>\n",
       "      <td>Hull City</td>\n",
       "      <td>Leicester City</td>\n",
       "      <td>2.0</td>\n",
       "      <td>1.0</td>\n",
       "      <td>2016-08-13</td>\n",
       "    </tr>\n",
       "    <tr>\n",
       "      <th>13</th>\n",
       "      <td>2016</td>\n",
       "      <td>2411</td>\n",
       "      <td>Southampton</td>\n",
       "      <td>Watford</td>\n",
       "      <td>1.0</td>\n",
       "      <td>1.0</td>\n",
       "      <td>2016-08-13</td>\n",
       "    </tr>\n",
       "    <tr>\n",
       "      <th>14</th>\n",
       "      <td>2016</td>\n",
       "      <td>2411</td>\n",
       "      <td>Crystal Palace</td>\n",
       "      <td>West Bromwich Albion</td>\n",
       "      <td>0.0</td>\n",
       "      <td>1.0</td>\n",
       "      <td>2016-08-13</td>\n",
       "    </tr>\n",
       "    <tr>\n",
       "      <th>15</th>\n",
       "      <td>2016</td>\n",
       "      <td>2411</td>\n",
       "      <td>Middlesbrough</td>\n",
       "      <td>Stoke City</td>\n",
       "      <td>1.0</td>\n",
       "      <td>1.0</td>\n",
       "      <td>2016-08-13</td>\n",
       "    </tr>\n",
       "    <tr>\n",
       "      <th>16</th>\n",
       "      <td>2016</td>\n",
       "      <td>2411</td>\n",
       "      <td>Burnley</td>\n",
       "      <td>Swansea City</td>\n",
       "      <td>0.0</td>\n",
       "      <td>1.0</td>\n",
       "      <td>2016-08-13</td>\n",
       "    </tr>\n",
       "  </tbody>\n",
       "</table>\n",
       "</div>"
      ]
     },
     "metadata": {},
     "execution_count": 1
    }
   ],
   "metadata": {}
  },
  {
   "cell_type": "code",
   "execution_count": 2,
   "source": [
    "df_test = df[df['season'] == 2020]\n",
    "df_train = df[df['season'] != 2020]"
   ],
   "outputs": [],
   "metadata": {}
  },
  {
   "cell_type": "markdown",
   "source": [
    "## Poisson Distribution"
   ],
   "metadata": {}
  },
  {
   "cell_type": "code",
   "execution_count": 3,
   "source": [
    "import warnings\n",
    "from scipy.stats import poisson\n",
    "from scipy.optimize import minimize"
   ],
   "outputs": [],
   "metadata": {}
  },
  {
   "cell_type": "code",
   "execution_count": 4,
   "source": [
    "games = pd.DataFrame([df[\"score1\"], df[\"score2\"], df[\"team1\"], df[\"team2\"]]).T\n",
    "games[\"score1\"] = games[\"score1\"].astype(int)\n",
    "games[\"score2\"] = games[\"score2\"].astype(int)\n",
    "\n",
    "teams = np.sort(np.unique(np.concatenate([df[\"team1\"], df[\"team2\"]])))\n",
    "n_teams = len(teams)\n",
    "\n",
    "_params = np.concatenate(\n",
    "    (\n",
    "        [1] * n_teams,  # Attack rating\n",
    "        [-1] * n_teams, # Defense rating\n",
    "        [0.5],          # home advantage\n",
    "    )\n",
    ")"
   ],
   "outputs": [],
   "metadata": {}
  },
  {
   "cell_type": "code",
   "execution_count": 5,
   "source": [
    "def score_inference(params, games, teams):\n",
    "    params_df = (\n",
    "        pd.DataFrame(params[:n_teams], columns=[\"attack\"])\n",
    "        .assign(defence=params[n_teams : n_teams * 2])\n",
    "        .assign(team=teams)\n",
    "    )\n",
    "\n",
    "    aggregate_df = (\n",
    "        games.merge(params_df, left_on='team1', right_on='team')\n",
    "        .rename(columns={\"attack\": \"attack1\", \"defence\": \"defence1\"})\n",
    "        .merge(params_df, left_on='team2', right_on='team')\n",
    "        .rename(columns={\"attack\": \"attack2\", \"defence\": \"defence2\"})\n",
    "        .drop(\"team_y\", axis=1)\n",
    "        .drop(\"team_x\", axis=1)\n",
    "        .assign(home_adv=params[-1])\n",
    "    )\n",
    "\n",
    "    aggregate_df[\"score1_infered\"] = np.exp(aggregate_df[\"home_adv\"] + aggregate_df[\"attack1\"] + aggregate_df[\"defence2\"])\n",
    "    aggregate_df[\"score2_infered\"] = np.exp(aggregate_df[\"attack2\"] + aggregate_df[\"defence1\"])\n",
    "\n",
    "    aggregate_df[\"score1_loglikelihood\"] = poisson.logpmf(aggregate_df[\"score1\"], aggregate_df[\"score1_infered\"])\n",
    "    aggregate_df[\"score2_loglikelihood\"] = poisson.logpmf(aggregate_df[\"score2\"], aggregate_df[\"score2_infered\"])\n",
    "    aggregate_df[\"loglikelihood\"] = aggregate_df[\"score1_loglikelihood\"] + aggregate_df[\"score2_loglikelihood\"]\n",
    "    \n",
    "    return -aggregate_df[\"loglikelihood\"].sum()"
   ],
   "outputs": [],
   "metadata": {}
  },
  {
   "cell_type": "code",
   "execution_count": 12,
   "source": [
    "# Optimize the parameter evalutation over 100 iterations\n",
    "options = {\n",
    "    \"maxiter\": 100,\n",
    "    # \"disp\": False,\n",
    "}\n",
    "\n",
    "# Set the home rating to have a unique set of values for reproducibility\n",
    "constraints = [{\"type\": \"eq\", \"fun\": lambda x: sum(x[: n_teams]) - n_teams}]\n",
    "\n",
    "bounds = [(0, 3)] * n_teams\n",
    "bounds += [(-3, 0)] * n_teams\n",
    "bounds += [(0, 3)]\n",
    "\n",
    "_res = minimize(\n",
    "    score_inference,\n",
    "    _params,\n",
    "    args=(games, teams),\n",
    "    constraints=constraints,\n",
    "    bounds=bounds,\n",
    "    options=options,\n",
    ")\n",
    "\n",
    "_params = _res[\"x\"]\n",
    "n_params = len(_params)\n",
    "loglikelihood = _res[\"fun\"] * -1\n",
    "aic = -2 * (loglikelihood) + 2 * n_params"
   ],
   "outputs": [],
   "metadata": {}
  },
  {
   "cell_type": "code",
   "execution_count": 7,
   "source": [
    "def score_mtx(home_team, away_team, max_goals=8):\n",
    "    # Get the corresponding model parameters\n",
    "    home_idx = np.where(teams == home_team)[0][0]\n",
    "    away_idx = np.where(teams == away_team)[0][0]\n",
    "\n",
    "    home_attack = _params[home_idx]\n",
    "    away_attack = _params[away_idx]\n",
    "\n",
    "    home_defence = _params[home_idx + n_teams]\n",
    "    away_defence = _params[away_idx + n_teams]\n",
    "\n",
    "    home_advantage = _params[-1]\n",
    "\n",
    "    # PMF\n",
    "    home_goals = np.exp(home_advantage + home_attack + away_defence)\n",
    "    away_goals = np.exp(away_attack + home_defence)\n",
    "    home_goals_vector = poisson(home_goals).pmf(np.arange(0, max_goals))\n",
    "    away_goals_vector = poisson(away_goals).pmf(np.arange(0, max_goals))\n",
    "\n",
    "    # Aggregate probabilities\n",
    "    m = np.outer(home_goals_vector, away_goals_vector)\n",
    "    return m"
   ],
   "outputs": [],
   "metadata": {}
  },
  {
   "cell_type": "code",
   "execution_count": 14,
   "source": [
    "mtx = score_mtx('Leicester City', \"West Ham United\", 4)\n",
    "mtx"
   ],
   "outputs": [
    {
     "output_type": "execute_result",
     "data": {
      "text/plain": [
       "array([[0.04233894, 0.05265625, 0.03274386, 0.01357434],\n",
       "       [0.08122152, 0.10101388, 0.06281465, 0.02604052],\n",
       "       [0.07790623, 0.09689071, 0.06025069, 0.0249776 ],\n",
       "       [0.04981751, 0.06195722, 0.03852759, 0.01597205]])"
      ]
     },
     "metadata": {},
     "execution_count": 14
    }
   ],
   "metadata": {}
  },
  {
   "cell_type": "code",
   "execution_count": 15,
   "source": [
    "def odds(m):\n",
    "    home = np.sum(np.tril(m, -1))\n",
    "    draw = np.sum(np.diag(m))\n",
    "    away = np.sum(np.triu(m, 1))\n",
    "    return f\"Home: {home:.2f}, Draw {draw:.2f}, Away {away:.2f}\""
   ],
   "outputs": [],
   "metadata": {}
  },
  {
   "cell_type": "code",
   "execution_count": 16,
   "source": [
    "odds(mtx)"
   ],
   "outputs": [
    {
     "output_type": "execute_result",
     "data": {
      "text/plain": [
       "'Home: 0.41, Draw 0.22, Away 0.21'"
      ]
     },
     "metadata": {},
     "execution_count": 16
    }
   ],
   "metadata": {}
  },
  {
   "cell_type": "code",
   "execution_count": 17,
   "source": [
    "def clean_sheet(m):\n",
    "    home = np.sum(m[:, 0])\n",
    "    away = np.sum(m[0, :])\n",
    "    return f\"Home: {home:.2f}, Away {away:.2f}\""
   ],
   "outputs": [],
   "metadata": {}
  },
  {
   "cell_type": "code",
   "execution_count": 18,
   "source": [
    "clean_sheet(mtx)"
   ],
   "outputs": [
    {
     "output_type": "execute_result",
     "data": {
      "text/plain": [
       "'Home: 0.25, Away 0.14'"
      ]
     },
     "metadata": {},
     "execution_count": 18
    }
   ],
   "metadata": {}
  }
 ],
 "metadata": {
  "orig_nbformat": 4,
  "language_info": {
   "name": "python",
   "version": "3.8.10",
   "mimetype": "text/x-python",
   "codemirror_mode": {
    "name": "ipython",
    "version": 3
   },
   "pygments_lexer": "ipython3",
   "nbconvert_exporter": "python",
   "file_extension": ".py"
  },
  "kernelspec": {
   "name": "python3",
   "display_name": "Python 3.8.10 64-bit"
  },
  "interpreter": {
   "hash": "31f2aee4e71d21fbe5cf8b01ff0e069b9275f58929596ceb00d14d90e3e16cd6"
  }
 },
 "nbformat": 4,
 "nbformat_minor": 2
}